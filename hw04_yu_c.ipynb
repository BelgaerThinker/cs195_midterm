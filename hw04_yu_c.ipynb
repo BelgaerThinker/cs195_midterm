{
 "metadata": {
  "name": "yu_project_proposal.ipynb"
 },
 "nbformat": 3,
 "nbformat_minor": 0,
 "worksheets": [
  {
   "cells": [
    {
     "cell_type": "markdown",
     "metadata": {},
     "source": [
      "###Christina Yu\n",
      "####CS 195\n",
      "####Project Proposal"
     ]
    },
    {
     "cell_type": "markdown",
     "metadata": {},
     "source": [
      "#####Data & Questions\n",
      "Taking data from the World Health Organization, I want to look at info on death rates for countries and see if there is a relationship between death rates and health workforce density, and between death rates and health infrastructure density.  I hypothesize that countries with higher death rates will have less dense health workforce and infrastructure.\n",
      "\n",
      "I also want to look at immunization and infectious disease histories of different diseases and see if there is a pattern with death rates, health workforce density, and health infrastructure density."
     ]
    },
    {
     "cell_type": "markdown",
     "metadata": {},
     "source": [
      "#####Analysis\n",
      "I hope to use the basemap toolkit of matplotlib to create graphic representations of data densities.  This would make visualization much easier than a bar graph or plot.\n",
      "\n",
      "For immunization history and infectious disease history, I may graph trends for specific countries and correlate them with health workforce and/or infrastructure."
     ]
    },
    {
     "cell_type": "markdown",
     "metadata": {},
     "source": [
      "#####Additional data\n",
      "There is more data on WHO that I may want to bring in to analyze, but I have not chosen anything in particular as of yet."
     ]
    }
   ],
   "metadata": {}
  }
 ]
}